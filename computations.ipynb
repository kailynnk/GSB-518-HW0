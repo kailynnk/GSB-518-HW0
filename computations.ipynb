{
  "cells": [
    {
      "cell_type": "raw",
      "metadata": {},
      "source": [
        "---\n",
        "title: Quarto Computations\n",
        "echo: false\n",
        "fig-height: 3.5\n",
        "fig-width: 6\n",
        "format:\n",
        "  html:\n",
        "    embed-resources: true\n",
        "---"
      ],
      "id": "0306410d"
    },
    {
      "cell_type": "markdown",
      "metadata": {},
      "source": [
        "This dataset contains a subset of the fuel economy data from the EPA.\n"
      ],
      "id": "6bc2dab8"
    },
    {
      "cell_type": "code",
      "metadata": {},
      "source": [
        "#| label: load-packages\n",
        "from plotnine import *\n",
        "from plotnine.data import mpg"
      ],
      "id": "load-packages",
      "execution_count": null,
      "outputs": []
    },
    {
      "cell_type": "markdown",
      "metadata": {},
      "source": [
        "The visualization below shows a positive, strong, and linear relationship between the city and highway mileage of these cars.\n",
        "Additionally, mileage is higher for cars with fewer cylinders.\n",
        "\n",
        "@fig-scatterplot shows a positive, strong, and linear relationship between the city and highway mileage of these cars.\n"
      ],
      "id": "319b34a6"
    },
    {
      "cell_type": "code",
      "metadata": {},
      "source": [
        "#| label: fig-scatterplot\n",
        "#| echo: true\n",
        "#| code-fold: true\n",
        "#| code-line-numbers: true\n",
        "#| fig-cap: City and highway mileage for 38 popular models of cars.\n",
        "#| fig-alt: 'Scatterplot of city vs. highway mileage for cars, where points are colored by the number of cylinders. The plot displays a positive, linear, and strong relationship between city and highway mileage, and mileage increases as the number of cylinders decreases.'\n",
        "(\n",
        "    ggplot(mpg, aes(x=\"hwy\", y=\"cty\", color=\"cyl\"))\n",
        "    + geom_point(alpha=0.5, size=2)\n",
        "    + scale_color_continuous()\n",
        "    + theme_bw()\n",
        ")"
      ],
      "id": "fig-scatterplot",
      "execution_count": null,
      "outputs": []
    },
    {
      "cell_type": "markdown",
      "metadata": {},
      "source": [
        "There are `{python} len(mpg)` observations in our data."
      ],
      "id": "58794c75"
    }
  ],
  "metadata": {
    "kernelspec": {
      "name": "python3",
      "language": "python",
      "display_name": "Python 3 (ipykernel)"
    }
  },
  "nbformat": 4,
  "nbformat_minor": 5
}